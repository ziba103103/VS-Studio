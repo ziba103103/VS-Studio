{
  "cells": [
    {
      "cell_type": "markdown",
      "id": "42289889-bd57-434e-9637-d3e354756316",
      "metadata": {
        "id": "42289889-bd57-434e-9637-d3e354756316"
      },
      "source": [
        "<center> <img src = https://raw.githubusercontent.com/AndreyRysistov/DatasetsForPandas/main/hh%20label.jpg alt=\"drawing\" style=\"width:400px;\">"
      ]
    },
    {
      "cell_type": "markdown",
      "id": "829cb75b-f14e-4ba8-9195-7ba929a7d656",
      "metadata": {
        "id": "829cb75b-f14e-4ba8-9195-7ba929a7d656",
        "tags": []
      },
      "source": [
        "# <center> Проект: Анализ вакансий из HeadHunter\n",
        "   "
      ]
    },
    {
      "cell_type": "code",
      "execution_count": 318,
      "id": "dccfde33-2452-43fb-a8a5-5c6ebc02a71d",
      "metadata": {
        "id": "dccfde33-2452-43fb-a8a5-5c6ebc02a71d"
      },
      "outputs": [],
      "source": [
        "import psycopg2\n",
        "import pandas as pd\n",
        "\n"
      ]
    },
    {
      "cell_type": "code",
      "execution_count": 319,
      "id": "G4X_q8KBf7SF",
      "metadata": {
        "id": "G4X_q8KBf7SF"
      },
      "outputs": [],
      "source": [
        "connection = psycopg2.connect(\n",
        "    dbname='project_sql',\n",
        "    user='skillfactory',\n",
        "    password='cCkxxLVrDE8EbvjueeMedPKt',\n",
        "    host='84.201.134.129',\n",
        "    port=5432\n",
        ")"
      ]
    },
    {
      "cell_type": "markdown",
      "id": "0dc6476b-7a00-44f1-ac93-6e3baed33a29",
      "metadata": {
        "id": "0dc6476b-7a00-44f1-ac93-6e3baed33a29"
      },
      "source": [
        "# Юнит 3. Предварительный анализ данных"
      ]
    },
    {
      "cell_type": "markdown",
      "id": "889782b6-8d1c-410e-8920-e57f27917c64",
      "metadata": {
        "id": "889782b6-8d1c-410e-8920-e57f27917c64"
      },
      "source": [
        "1. Напишите запрос, который посчитает количество вакансий в нашей базе (вакансии находятся в таблице vacancies). "
      ]
    },
    {
      "cell_type": "code",
      "execution_count": 320,
      "id": "bc39e68e-ed02-4ee2-9235-7258a2f867a8",
      "metadata": {
        "id": "bc39e68e-ed02-4ee2-9235-7258a2f867a8"
      },
      "outputs": [
        {
          "name": "stdout",
          "output_type": "stream",
          "text": [
            "   count\n",
            "0  49197\n"
          ]
        },
        {
          "name": "stderr",
          "output_type": "stream",
          "text": [
            "C:\\Users\\Admin\\AppData\\Local\\Temp\\ipykernel_13696\\2165760488.py:6: UserWarning: pandas only supports SQLAlchemy connectable (engine/connection) or database string URI or sqlite3 DBAPI2 connection. Other DBAPI2 objects are not tested. Please consider using SQLAlchemy.\n",
            "  df = pd.read_sql_query(query_3_1, connection)  #Получение результата\n"
          ]
        }
      ],
      "source": [
        "# текст запроса\n",
        "query_3_1 = f'''select count(*) \n",
        "from public.vacancies v\n",
        "'''  #Запрос\n",
        "\n",
        "df = pd.read_sql_query(query_3_1, connection)  #Получение результата\n",
        "print(df) #Выведение результата\n",
        "\n"
      ]
    },
    {
      "cell_type": "code",
      "execution_count": 321,
      "id": "7mAwtsk4hEHY",
      "metadata": {
        "id": "7mAwtsk4hEHY"
      },
      "outputs": [],
      "source": [
        "# результат запроса\n",
        "# Результат выведет значения количества вакансий 49197, что является нашим результатом"
      ]
    },
    {
      "cell_type": "markdown",
      "id": "b583485d-1f9e-494e-ada4-80ffff7c53d6",
      "metadata": {
        "id": "b583485d-1f9e-494e-ada4-80ffff7c53d6"
      },
      "source": [
        "2. Напишите запрос, который посчитает количество работодателей (таблица employers). "
      ]
    },
    {
      "cell_type": "code",
      "execution_count": 322,
      "id": "0e172497",
      "metadata": {},
      "outputs": [
        {
          "name": "stdout",
          "output_type": "stream",
          "text": [
            "   count\n",
            "0  23501\n"
          ]
        },
        {
          "name": "stderr",
          "output_type": "stream",
          "text": [
            "C:\\Users\\Admin\\AppData\\Local\\Temp\\ipykernel_13696\\569136774.py:5: UserWarning: pandas only supports SQLAlchemy connectable (engine/connection) or database string URI or sqlite3 DBAPI2 connection. Other DBAPI2 objects are not tested. Please consider using SQLAlchemy.\n",
            "  df = pd.read_sql_query(query_3_2, connection)  #Получение результата\n"
          ]
        }
      ],
      "source": [
        "query_3_2 = f'''select count(*)\n",
        "from public.employers \n",
        "''' #Запрос\n",
        "\n",
        "df = pd.read_sql_query(query_3_2, connection)  #Получение результата\n",
        "print(df) #Выведение результата\n"
      ]
    },
    {
      "cell_type": "code",
      "execution_count": 323,
      "id": "5408c52c-3407-4a63-b25b-1aafa2322d28",
      "metadata": {
        "id": "5408c52c-3407-4a63-b25b-1aafa2322d28"
      },
      "outputs": [],
      "source": [
        "# текст запроса\n",
        "# запрос, Получение результатаm, Выведение результата"
      ]
    },
    {
      "cell_type": "code",
      "execution_count": 324,
      "id": "jVL4eshKhdqc",
      "metadata": {
        "id": "jVL4eshKhdqc"
      },
      "outputs": [],
      "source": [
        "# результат запроса\n",
        "# Результат выведет значения количества работодателей 23501, что является нашим результатом"
      ]
    },
    {
      "cell_type": "markdown",
      "id": "a2bfff1f-c975-4bf6-84be-2185d79dcb76",
      "metadata": {
        "id": "a2bfff1f-c975-4bf6-84be-2185d79dcb76"
      },
      "source": [
        "3. Посчитате с помощью запроса количество регионов (таблица areas)."
      ]
    },
    {
      "cell_type": "code",
      "execution_count": 325,
      "id": "7b48b803",
      "metadata": {},
      "outputs": [
        {
          "name": "stdout",
          "output_type": "stream",
          "text": [
            "   count\n",
            "0   1362\n"
          ]
        },
        {
          "name": "stderr",
          "output_type": "stream",
          "text": [
            "C:\\Users\\Admin\\AppData\\Local\\Temp\\ipykernel_13696\\3479339141.py:5: UserWarning: pandas only supports SQLAlchemy connectable (engine/connection) or database string URI or sqlite3 DBAPI2 connection. Other DBAPI2 objects are not tested. Please consider using SQLAlchemy.\n",
            "  df = pd.read_sql_query(query_3_3, connection)  #Получение результата\n"
          ]
        }
      ],
      "source": [
        "query_3_3 = f'''select count(*)\n",
        "from public.areas \n",
        "''' #Запрос\n",
        "\n",
        "df = pd.read_sql_query(query_3_3, connection)  #Получение результата\n",
        "print(df) #Выведение результата"
      ]
    },
    {
      "cell_type": "code",
      "execution_count": 326,
      "id": "1m8QJwBYhey6",
      "metadata": {
        "id": "1m8QJwBYhey6"
      },
      "outputs": [],
      "source": [
        "# текст запроса\n",
        "# запрос, Получение результатаm, Выведение результата"
      ]
    },
    {
      "cell_type": "code",
      "execution_count": 327,
      "id": "EZsn9tlfhe7f",
      "metadata": {
        "id": "EZsn9tlfhe7f"
      },
      "outputs": [],
      "source": [
        "# результат запроса\n",
        "# Результат выведет значения количества регионов 1362, что является нашим результатом"
      ]
    },
    {
      "cell_type": "markdown",
      "id": "41bb59f3-53cc-4a67-a5bc-bedf573955e4",
      "metadata": {
        "id": "41bb59f3-53cc-4a67-a5bc-bedf573955e4"
      },
      "source": [
        "4. Посчитате с помощью запроса количество сфер деятельности в базе (таблица industries)."
      ]
    },
    {
      "cell_type": "code",
      "execution_count": 328,
      "id": "e791d7a8",
      "metadata": {},
      "outputs": [
        {
          "name": "stderr",
          "output_type": "stream",
          "text": [
            "C:\\Users\\Admin\\AppData\\Local\\Temp\\ipykernel_13696\\2326976954.py:5: UserWarning: pandas only supports SQLAlchemy connectable (engine/connection) or database string URI or sqlite3 DBAPI2 connection. Other DBAPI2 objects are not tested. Please consider using SQLAlchemy.\n",
            "  df = pd.read_sql_query(query_3_4, connection)  #Получение результата\n"
          ]
        },
        {
          "name": "stdout",
          "output_type": "stream",
          "text": [
            "   count\n",
            "0    294\n"
          ]
        }
      ],
      "source": [
        "query_3_4 = f'''select count(*)\n",
        "from public.industries \n",
        "''' #Запрос\n",
        "\n",
        "df = pd.read_sql_query(query_3_4, connection)  #Получение результата\n",
        "print(df) #Выведение результата"
      ]
    },
    {
      "cell_type": "code",
      "execution_count": 329,
      "id": "d286cf4c-707b-4cd2-9190-7ab3587d04a1",
      "metadata": {
        "id": "d286cf4c-707b-4cd2-9190-7ab3587d04a1"
      },
      "outputs": [],
      "source": [
        "# текст запроса\n",
        "# запрос, Получение результатаm, Выведение результата"
      ]
    },
    {
      "cell_type": "code",
      "execution_count": 330,
      "id": "JYAaoZ4qhfzW",
      "metadata": {
        "id": "JYAaoZ4qhfzW"
      },
      "outputs": [],
      "source": [
        "# результат запроса\n",
        "# Результат выведет значения количества сфер деятельности 294, что является нашим результатом"
      ]
    },
    {
      "cell_type": "markdown",
      "id": "9a8a2181-6914-448b-85f1-38f5f18b8a93",
      "metadata": {
        "id": "9a8a2181-6914-448b-85f1-38f5f18b8a93"
      },
      "source": [
        "***"
      ]
    },
    {
      "cell_type": "code",
      "execution_count": 331,
      "id": "be4e9bd3-a4db-4a20-82fb-6b02fc2957e0",
      "metadata": {
        "id": "be4e9bd3-a4db-4a20-82fb-6b02fc2957e0"
      },
      "outputs": [],
      "source": [
        "# выводы по предварительному анализу данных\n",
        "# Результатом нашего пойска стали, получения общих количеств по таблицам поиска"
      ]
    },
    {
      "cell_type": "markdown",
      "id": "8d62a9f3-f64e-4fe7-bdac-c4dffa16155e",
      "metadata": {
        "id": "8d62a9f3-f64e-4fe7-bdac-c4dffa16155e"
      },
      "source": [
        "# Юнит 4. Детальный анализ вакансий"
      ]
    },
    {
      "cell_type": "markdown",
      "id": "93053d3d-b284-481a-9cf7-012d7014c0e0",
      "metadata": {
        "id": "93053d3d-b284-481a-9cf7-012d7014c0e0"
      },
      "source": [
        "1. Напишите запрос, который позволит узнать, сколько (cnt) вакансий в каждом регионе (area).\n",
        "Отсортируйте по количеству вакансий в порядке убывания."
      ]
    },
    {
      "cell_type": "code",
      "execution_count": 332,
      "id": "3f069da6-fdc9-4ae7-b514-fafe2675efd3",
      "metadata": {
        "id": "3f069da6-fdc9-4ae7-b514-fafe2675efd3"
      },
      "outputs": [
        {
          "name": "stderr",
          "output_type": "stream",
          "text": [
            "C:\\Users\\Admin\\AppData\\Local\\Temp\\ipykernel_13696\\3978919220.py:8: UserWarning: pandas only supports SQLAlchemy connectable (engine/connection) or database string URI or sqlite3 DBAPI2 connection. Other DBAPI2 objects are not tested. Please consider using SQLAlchemy.\n",
            "  df = pd.read_sql_query(query_4_1, connection)  # Получение результата\n"
          ]
        },
        {
          "name": "stdout",
          "output_type": "stream",
          "text": [
            "                name  count\n",
            "0             Москва   5333\n",
            "1    Санкт-Петербург   2851\n",
            "2              Минск   2112\n",
            "3        Новосибирск   2006\n",
            "4             Алматы   1892\n",
            "..               ...    ...\n",
            "764       Тарко-Сале      1\n",
            "765    Новоаннинский      1\n",
            "766            Бирск      1\n",
            "767           Сасово      1\n",
            "768             Анна      1\n",
            "\n",
            "[769 rows x 2 columns]\n"
          ]
        }
      ],
      "source": [
        "query_4_1 = f'''SELECT a.name, COUNT(v.id)\n",
        "FROM public.areas a\n",
        "JOIN public.vacancies v ON a.id = v.area_id  \n",
        "GROUP BY a.name\n",
        "ORDER BY 2 DESC\n",
        "'''  # Запрос\n",
        "\n",
        "df = pd.read_sql_query(query_4_1, connection)  # Получение результата\n",
        "print(df)  # Выведение результата\n"
      ]
    },
    {
      "cell_type": "code",
      "execution_count": 333,
      "id": "P7QL86hrjhRJ",
      "metadata": {
        "id": "P7QL86hrjhRJ"
      },
      "outputs": [],
      "source": [
        "# Фильтрация происходит с участием метода группировки(для каждого значения города, находится вакансия из списка вакансий, группируетсЯ по имени и выводит кол-во вакансий для каждого города)"
      ]
    },
    {
      "cell_type": "markdown",
      "id": "4266f0b6-1646-492a-88b4-2f6a46502135",
      "metadata": {
        "id": "4266f0b6-1646-492a-88b4-2f6a46502135"
      },
      "source": [
        "2. Напишите запрос, чтобы определить у какого количества вакансий заполнено хотя бы одно из двух полей с зарплатой."
      ]
    },
    {
      "cell_type": "code",
      "execution_count": 334,
      "id": "0c44b350-72eb-4d65-8b54-a1fc449ba9fd",
      "metadata": {
        "id": "0c44b350-72eb-4d65-8b54-a1fc449ba9fd"
      },
      "outputs": [
        {
          "name": "stderr",
          "output_type": "stream",
          "text": [
            "C:\\Users\\Admin\\AppData\\Local\\Temp\\ipykernel_13696\\1971192768.py:6: UserWarning: pandas only supports SQLAlchemy connectable (engine/connection) or database string URI or sqlite3 DBAPI2 connection. Other DBAPI2 objects are not tested. Please consider using SQLAlchemy.\n",
            "  df = pd.read_sql_query(query_4_2, connection)  # Получение результата\n"
          ]
        },
        {
          "name": "stdout",
          "output_type": "stream",
          "text": [
            "   count\n",
            "0  24073\n"
          ]
        }
      ],
      "source": [
        "query_4_2 = f'''SELECT count(id)\n",
        "FROM public.vacancies\n",
        "where salary_to is not null or salary_from is not null\n",
        "'''  # Запрос\n",
        "\n",
        "df = pd.read_sql_query(query_4_2, connection)  # Получение результата\n",
        "print(df)  # Выведение результата"
      ]
    },
    {
      "cell_type": "code",
      "execution_count": 335,
      "id": "rhvwaMDkoWTi",
      "metadata": {
        "id": "rhvwaMDkoWTi"
      },
      "outputs": [],
      "source": [
        "# Проверяем на два условия, в одной из ячеик должен быть результат(Значения), кроме NULL. Используем условие Where "
      ]
    },
    {
      "cell_type": "markdown",
      "id": "635c4d5d-f323-4c66-b428-50a088120aa0",
      "metadata": {
        "id": "635c4d5d-f323-4c66-b428-50a088120aa0"
      },
      "source": [
        "3. Найдите средние значения для нижней и верхней границы зарплатной вилки. Округлите значения до целого."
      ]
    },
    {
      "cell_type": "code",
      "execution_count": 336,
      "id": "603cdbe4-0ec3-4106-8eaf-c73fcdd29165",
      "metadata": {
        "id": "603cdbe4-0ec3-4106-8eaf-c73fcdd29165"
      },
      "outputs": [
        {
          "name": "stdout",
          "output_type": "stream",
          "text": [
            "   Верхняя граница  Нижняя граница\n",
            "0         110537.0         71065.0\n"
          ]
        },
        {
          "name": "stderr",
          "output_type": "stream",
          "text": [
            "C:\\Users\\Admin\\AppData\\Local\\Temp\\ipykernel_13696\\2714467818.py:6: UserWarning: pandas only supports SQLAlchemy connectable (engine/connection) or database string URI or sqlite3 DBAPI2 connection. Other DBAPI2 objects are not tested. Please consider using SQLAlchemy.\n",
            "  df = pd.read_sql_query(query_4_3, connection)  # Получение результата\n"
          ]
        }
      ],
      "source": [
        "query_4_3 = f'''SELECT ROUND(AVG(salary_to)) \"Верхняя граница\", ROUND(AVG(salary_from)) \"Нижняя граница\"\n",
        "FROM public.vacancies\n",
        "\n",
        "'''  # Запрос\n",
        "\n",
        "df = pd.read_sql_query(query_4_3, connection)  # Получение результата\n",
        "print(df)  # Выведение результата"
      ]
    },
    {
      "cell_type": "code",
      "execution_count": 337,
      "id": "pswpAb66ovZZ",
      "metadata": {
        "id": "pswpAb66ovZZ"
      },
      "outputs": [],
      "source": [
        "# Используется двойной метод агрегации, сначала AVG потом ROUND"
      ]
    },
    {
      "cell_type": "markdown",
      "id": "f3fdaec9-5fd3-4260-9cf5-1d7406b628a5",
      "metadata": {
        "id": "f3fdaec9-5fd3-4260-9cf5-1d7406b628a5"
      },
      "source": [
        "4. Напишите запрос, который выведет количество вакансий для каждого сочетания типа рабочего графика (schedule) и типа трудоустройства (employment), используемого в вакансиях. Результат отсортируйте по убыванию количества.\n"
      ]
    },
    {
      "cell_type": "code",
      "execution_count": 338,
      "id": "1ea710ec-871b-431e-9462-c7d0fd87011b",
      "metadata": {
        "id": "1ea710ec-871b-431e-9462-c7d0fd87011b"
      },
      "outputs": [
        {
          "name": "stdout",
          "output_type": "stream",
          "text": [
            "           schedule        employment  count\n",
            "0  Удаленная работа  Полная занятость   7802\n"
          ]
        },
        {
          "name": "stderr",
          "output_type": "stream",
          "text": [
            "C:\\Users\\Admin\\AppData\\Local\\Temp\\ipykernel_13696\\3304728946.py:8: UserWarning: pandas only supports SQLAlchemy connectable (engine/connection) or database string URI or sqlite3 DBAPI2 connection. Other DBAPI2 objects are not tested. Please consider using SQLAlchemy.\n",
            "  df = pd.read_sql_query(query_4_4, connection)  # Получение результата\n"
          ]
        }
      ],
      "source": [
        "query_4_4 = f'''SELECT v.schedule, v.employment, count(*)\n",
        "FROM public.vacancies v\n",
        "group by 1, 2\n",
        "order by 3 DESC\n",
        "limit 1 offset 1\n",
        "'''  # Запрос\n",
        "\n",
        "df = pd.read_sql_query(query_4_4, connection)  # Получение результата\n",
        "print(df)  # Выведение результата"
      ]
    },
    {
      "cell_type": "code",
      "execution_count": 339,
      "id": "lGUVqavdo4JQ",
      "metadata": {
        "id": "lGUVqavdo4JQ"
      },
      "outputs": [],
      "source": [
        "# Результат функции отсортированный список, предварительно сокращенный с помощью OFFSET и  LIMIT"
      ]
    },
    {
      "cell_type": "markdown",
      "id": "0136ffee-0ead-4a6b-b608-61d1c753a438",
      "metadata": {
        "id": "0136ffee-0ead-4a6b-b608-61d1c753a438"
      },
      "source": [
        "5. Напишите запрос, выводящий значения поля Требуемый опыт работы (experience) в порядке возрастания количества вакансий, в которых указан данный вариант опыта. "
      ]
    },
    {
      "cell_type": "code",
      "execution_count": 340,
      "id": "5b3a8e79-f7ab-4008-b767-12aea3a205ea",
      "metadata": {
        "id": "5b3a8e79-f7ab-4008-b767-12aea3a205ea"
      },
      "outputs": [
        {
          "name": "stdout",
          "output_type": "stream",
          "text": [
            "  Требуемый опыт работы  Количество вакансий\n",
            "0           Более 6 лет                 1337\n",
            "1             Нет опыта                 7197\n",
            "2         От 3 до 6 лет                14511\n",
            "3    От 1 года до 3 лет                26152\n"
          ]
        },
        {
          "name": "stderr",
          "output_type": "stream",
          "text": [
            "C:\\Users\\Admin\\AppData\\Local\\Temp\\ipykernel_13696\\1182136083.py:7: UserWarning: pandas only supports SQLAlchemy connectable (engine/connection) or database string URI or sqlite3 DBAPI2 connection. Other DBAPI2 objects are not tested. Please consider using SQLAlchemy.\n",
            "  df = pd.read_sql_query(query_4_5, connection)  # Получение результата\n"
          ]
        }
      ],
      "source": [
        "query_4_5 = f'''SELECT  v.experience as \"Требуемый опыт работы\", COUNT(v.id) AS \"Количество вакансий\"\n",
        "FROM public.vacancies v\n",
        "GROUP BY 1\n",
        "ORDER BY 2 ASC\n",
        "'''  # Запрос\n",
        "\n",
        "df = pd.read_sql_query(query_4_5, connection)  # Получение результата\n",
        "print(df)  # Выведение результата"
      ]
    },
    {
      "cell_type": "code",
      "execution_count": 341,
      "id": "3Is64Y-hpDpq",
      "metadata": {
        "id": "3Is64Y-hpDpq"
      },
      "outputs": [],
      "source": [
        "# Результат: опыт работы в порядке возрастания вакансий"
      ]
    },
    {
      "cell_type": "markdown",
      "id": "oq2b7n1QpIka",
      "metadata": {
        "id": "oq2b7n1QpIka"
      },
      "source": [
        "***"
      ]
    },
    {
      "cell_type": "code",
      "execution_count": 342,
      "id": "e91f87ed-e25c-4f96-9f92-b642e8c0b4fa",
      "metadata": {
        "id": "e91f87ed-e25c-4f96-9f92-b642e8c0b4fa"
      },
      "outputs": [],
      "source": [
        "# Итогом данной работы стало поиск, определение, анализ вакансий на HH.ru. В работе представлены результаты исследования по представленным данным и их заданиям."
      ]
    },
    {
      "cell_type": "markdown",
      "id": "7ea20ab6-04a7-40a0-adec-443a0e5a42c3",
      "metadata": {
        "id": "7ea20ab6-04a7-40a0-adec-443a0e5a42c3"
      },
      "source": [
        "# Юнит 5. Анализ работодателей"
      ]
    },
    {
      "cell_type": "markdown",
      "id": "968aed80-74ef-4ffb-b5bf-c65b84e9caea",
      "metadata": {
        "id": "968aed80-74ef-4ffb-b5bf-c65b84e9caea"
      },
      "source": [
        "1. Напишите запрос, который позволит узнать, какие работодатели находятся на первом и пятом месте по количеству вакансий."
      ]
    },
    {
      "cell_type": "code",
      "execution_count": 343,
      "id": "f2d62796-d400-4ec1-a675-88112739a50e",
      "metadata": {
        "id": "f2d62796-d400-4ec1-a675-88112739a50e"
      },
      "outputs": [
        {
          "name": "stdout",
          "output_type": "stream",
          "text": [
            "                    name  Количество вакансий\n",
            "0                 Яндекс                 1933\n",
            "1             Ростелеком                  491\n",
            "2               Тинькофф                  444\n",
            "3                   СБЕР                  428\n",
            "4          Газпром нефть                  331\n",
            "5            ИК СИБИНТЕК                  327\n",
            "6                    МТС                  292\n",
            "7                DataArt                  247\n",
            "8  Совкомбанк Технологии                  204\n",
            "9             Первый Бит                  176\n"
          ]
        },
        {
          "name": "stderr",
          "output_type": "stream",
          "text": [
            "C:\\Users\\Admin\\AppData\\Local\\Temp\\ipykernel_13696\\3924617457.py:8: UserWarning: pandas only supports SQLAlchemy connectable (engine/connection) or database string URI or sqlite3 DBAPI2 connection. Other DBAPI2 objects are not tested. Please consider using SQLAlchemy.\n",
            "  df = pd.read_sql_query(query_5_1, connection)  # Получение результата\n"
          ]
        }
      ],
      "source": [
        "query_5_1 = f'''SELECT e.name , COUNT(v.id) AS \"Количество вакансий\"\n",
        "FROM public.vacancies v join public.employers e  on  v.employer_id = e.id -- JOIN \n",
        "GROUP BY 1\n",
        "ORDER BY 2 DESC\n",
        "limit 10\n",
        "'''  # Запрос\n",
        "\n",
        "df = pd.read_sql_query(query_5_1, connection)  # Получение результата\n",
        "print(df)  # Выведение результата"
      ]
    },
    {
      "cell_type": "code",
      "execution_count": 344,
      "id": "64tOMkAxqkQk",
      "metadata": {
        "id": "64tOMkAxqkQk"
      },
      "outputs": [],
      "source": [
        "# Результат, название компаний и количество вакансий предлагаемых компаний. ответ Яндекс, газпром нефть"
      ]
    },
    {
      "cell_type": "markdown",
      "id": "68377cfc-b378-43dc-ab7d-1195abf2c515",
      "metadata": {
        "id": "68377cfc-b378-43dc-ab7d-1195abf2c515"
      },
      "source": [
        "2. Напишите запрос, который для каждого региона выведет количество работодателей и вакансий в нём.\n",
        "Среди регионов, в которых нет вакансий, найдите тот, в котором наибольшее количество работодателей.\n"
      ]
    },
    {
      "cell_type": "code",
      "execution_count": null,
      "id": "dd7df27a-e3e8-412e-a21a-5d389b71e891",
      "metadata": {
        "id": "dd7df27a-e3e8-412e-a21a-5d389b71e891"
      },
      "outputs": [
        {
          "name": "stdout",
          "output_type": "stream",
          "text": [
            "            region_name  employer  vacancy\n",
            "0                Россия       410        0\n",
            "1             Казахстан       207        0\n",
            "2    Московская область        75        0\n",
            "3    Краснодарский край        19        0\n",
            "4    Ростовская область        18        0\n",
            "..                  ...       ...      ...\n",
            "588             Скидель         0        0\n",
            "589          Белоозерск         0        0\n",
            "590           Орловский         0        0\n",
            "591          Павловская         0        0\n",
            "592             Таксимо         0        0\n",
            "\n",
            "[593 rows x 3 columns]\n"
          ]
        },
        {
          "name": "stderr",
          "output_type": "stream",
          "text": [
            "C:\\Users\\Admin\\AppData\\Local\\Temp\\ipykernel_13696\\1576078651.py:18: UserWarning: pandas only supports SQLAlchemy connectable (engine/connection) or database string URI or sqlite3 DBAPI2 connection. Other DBAPI2 objects are not tested. Please consider using SQLAlchemy.\n",
            "  df = pd.read_sql_query(query_5_2, connection)  # Получение результата\n"
          ]
        }
      ],
      "source": [
        "query_5_2 = f'''\n",
        "SELECT --Запрос \n",
        "    a.name as region_name,\n",
        "    COUNT(distinct e.id) as employer,\n",
        "    COUNT(distinct v.id) as vacancy\n",
        "    \n",
        "FROM public.areas a -- Объединение через LEFT\n",
        "LEFT JOIN public.employers e ON a.id = e.area\n",
        "LEFT JOIN public.vacancies v ON a.id = v.area_id\n",
        "\n",
        "\n",
        "where v.name is null\n",
        "GROUP BY a.id, a.name\n",
        "\n",
        "ORDER BY 2 DESc\n",
        "'''  # Запрос\n",
        "\n",
        "df = pd.read_sql_query(query_5_2, connection)  # Получение результата\n",
        "print(df)  # Выведение результата"
      ]
    },
    {
      "cell_type": "code",
      "execution_count": 346,
      "id": "x1ikWbydrbf6",
      "metadata": {
        "id": "x1ikWbydrbf6"
      },
      "outputs": [],
      "source": [
        "# Результатом данного кода стала, таблица, в которой благодаря LEFT JOIN собрана информация о количестве вакансий и кол-ве работодателей по региону. Мы произвели фильтрацию по вакансиям, где \n",
        "# where v.name is null то есть количество вакансий равно(эквиваленто) = 0"
      ]
    },
    {
      "cell_type": "markdown",
      "id": "f2fe0acb-ab1a-4e15-9326-2560e22d73c1",
      "metadata": {
        "id": "f2fe0acb-ab1a-4e15-9326-2560e22d73c1"
      },
      "source": [
        "3. Для каждого работодателя посчитайте количество регионов, в которых он публикует свои вакансии. Отсортируйте результат по убыванию количества.\n"
      ]
    },
    {
      "cell_type": "code",
      "execution_count": 347,
      "id": "6271f8ad-bd2e-4196-ae4a-5b39c4c1010e",
      "metadata": {
        "id": "6271f8ad-bd2e-4196-ae4a-5b39c4c1010e"
      },
      "outputs": [
        {
          "name": "stderr",
          "output_type": "stream",
          "text": [
            "C:\\Users\\Admin\\AppData\\Local\\Temp\\ipykernel_13696\\2931645569.py:19: UserWarning: pandas only supports SQLAlchemy connectable (engine/connection) or database string URI or sqlite3 DBAPI2 connection. Other DBAPI2 objects are not tested. Please consider using SQLAlchemy.\n",
            "  df = pd.read_sql_query(query_5_3, connection)  # Получение результата\n"
          ]
        },
        {
          "name": "stdout",
          "output_type": "stream",
          "text": [
            "                 employer_name  count\n",
            "0                       Яндекс    181\n",
            "1                   Ростелеком    152\n",
            "2                   Спецремонт    116\n",
            "3       Поляков Денис Иванович     88\n",
            "4                    ООО ЕФИН      71\n",
            "5                   Совкомбанк     63\n",
            "6                          МТС     55\n",
            "7   ЭФКО, Управляющая компания     49\n",
            "8                 Почта России     48\n",
            "9                         КРОН     48\n",
            "10                       MCORE     46\n",
            "11                 ИК СИБИНТЕК     46\n",
            "12             Сбербанк-Сервис     45\n",
            "13                       ANCOR     44\n",
            "14                  Первый Бит     43\n"
          ]
        }
      ],
      "source": [
        "query_5_3 = f'''\n",
        "SELECT\n",
        "    e.name as employer_name,\n",
        "    count(DISTINCT  v.area_id)\n",
        "    \n",
        "    \n",
        "FROM public.employers e\n",
        "join public.vacancies v on e.id = v.employer_id\n",
        "\n",
        "\n",
        "GROUP BY\n",
        "    e.id,\n",
        "    e.name\n",
        "\n",
        "ORDER BY 2 DESc\n",
        "limit 15\n",
        "'''  # Запрос\n",
        "\n",
        "df = pd.read_sql_query(query_5_3, connection)  # Получение результата\n",
        "print(df)  # Выведение результата"
      ]
    },
    {
      "cell_type": "code",
      "execution_count": 348,
      "id": "1EIvX3HasH4F",
      "metadata": {
        "id": "1EIvX3HasH4F"
      },
      "outputs": [],
      "source": [
        "# Результатом будет таблица, в которой идет подсчет регионов в которых работодатель выставял свои вакансии ответ 181"
      ]
    },
    {
      "cell_type": "markdown",
      "id": "eab2206d-d95b-468b-8e5f-34381abf0ce7",
      "metadata": {
        "id": "eab2206d-d95b-468b-8e5f-34381abf0ce7"
      },
      "source": [
        "4. Напишите запрос для подсчёта количества работодателей, у которых не указана сфера деятельности. "
      ]
    },
    {
      "cell_type": "code",
      "execution_count": 349,
      "id": "80defb23-bfb1-4a18-8be6-bf36aa7165d5",
      "metadata": {
        "id": "80defb23-bfb1-4a18-8be6-bf36aa7165d5"
      },
      "outputs": [
        {
          "name": "stderr",
          "output_type": "stream",
          "text": [
            "C:\\Users\\Admin\\AppData\\Local\\Temp\\ipykernel_13696\\1684674220.py:12: UserWarning: pandas only supports SQLAlchemy connectable (engine/connection) or database string URI or sqlite3 DBAPI2 connection. Other DBAPI2 objects are not tested. Please consider using SQLAlchemy.\n",
            "  df = pd.read_sql_query(query_5_4, connection)  # Получение результата\n"
          ]
        },
        {
          "name": "stdout",
          "output_type": "stream",
          "text": [
            "   employers_without_industry\n",
            "0                        8419\n"
          ]
        }
      ],
      "source": [
        "query_5_4 = f''' SELECT COUNT(*) AS employers_without_industry\n",
        "    \n",
        "FROM public.employers e\n",
        "left join public.employers_industries em on e.id = em.employer_id\n",
        "\n",
        "WHERE\n",
        "    em.industry_id IS NULL\n",
        "\n",
        "ORDER BY 1 ASC\n",
        "'''  # Запрос\n",
        "\n",
        "df = pd.read_sql_query(query_5_4, connection)  # Получение результата\n",
        "print(df)  # Выведение результата"
      ]
    },
    {
      "cell_type": "code",
      "execution_count": 350,
      "id": "Dp_yCx6ysQSu",
      "metadata": {
        "id": "Dp_yCx6ysQSu"
      },
      "outputs": [],
      "source": [
        "# результат запроса. Кол-во работодателей у которых не указана свера деятельности. LEFT JOIN в данном запросе используется для збора всех данных включая пустых ячеик - деятельность  "
      ]
    },
    {
      "cell_type": "markdown",
      "id": "0112af31-f6b0-4e3b-82ab-71296e752e5e",
      "metadata": {
        "id": "0112af31-f6b0-4e3b-82ab-71296e752e5e"
      },
      "source": [
        "5. Напишите запрос, чтобы узнать название компании, находящейся на третьем месте в алфавитном списке (по названию) компаний, у которых указано четыре сферы деятельности. "
      ]
    },
    {
      "cell_type": "code",
      "execution_count": 351,
      "id": "973b0cfc-a972-470a-8b4a-68744ef220c4",
      "metadata": {
        "id": "973b0cfc-a972-470a-8b4a-68744ef220c4"
      },
      "outputs": [
        {
          "name": "stdout",
          "output_type": "stream",
          "text": [
            "                 name  count\n",
            "0        101 Интернет      4\n",
            "1            21vek.by      4\n",
            "2                2ГИС      4\n",
            "3                  2К      4\n",
            "4         4 пикселя +      4\n",
            "...               ...    ...\n",
            "1131            ЮРИОН      4\n",
            "1132  ЮТИП Технологии      4\n",
            "1133           ЯКласс      4\n",
            "1134            ЯрНео      4\n",
            "1135    Яшин&Партнёры      4\n",
            "\n",
            "[1136 rows x 2 columns]\n"
          ]
        },
        {
          "name": "stderr",
          "output_type": "stream",
          "text": [
            "C:\\Users\\Admin\\AppData\\Local\\Temp\\ipykernel_13696\\2947285979.py:12: UserWarning: pandas only supports SQLAlchemy connectable (engine/connection) or database string URI or sqlite3 DBAPI2 connection. Other DBAPI2 objects are not tested. Please consider using SQLAlchemy.\n",
            "  df = pd.read_sql_query(query_5_5, connection)  # Получение результата\n"
          ]
        }
      ],
      "source": [
        "query_5_5 = f''' select e.name, count(em.industry_id)\n",
        "    \n",
        "FROM public.employers e\n",
        "join public.employers_industries em on e.id = em.employer_id\n",
        "\n",
        "\n",
        "group by 1\n",
        "HAVING COUNT(em.industry_id) = 4\n",
        "ORDER BY 1 ASC\n",
        "'''  # Запрос\n",
        "\n",
        "df = pd.read_sql_query(query_5_5, connection)  # Получение результата\n",
        "print(df)  # Выведение результата"
      ]
    },
    {
      "cell_type": "code",
      "execution_count": 352,
      "id": "xsPtpp8EsaED",
      "metadata": {
        "id": "xsPtpp8EsaED"
      },
      "outputs": [],
      "source": [
        "# результат запроса, таблица в которой собраны организации с предоставлением 4 типов сфер деятельномти"
      ]
    },
    {
      "cell_type": "markdown",
      "id": "3bfcfdaf-755d-4d2b-8ed8-326201dc07ab",
      "metadata": {
        "id": "3bfcfdaf-755d-4d2b-8ed8-326201dc07ab"
      },
      "source": [
        "6. С помощью запроса выясните, у какого количества работодателей в качестве сферы деятельности указана Разработка программного обеспечения.\n"
      ]
    },
    {
      "cell_type": "code",
      "execution_count": 353,
      "id": "ad3f270f-2991-47eb-929b-e8f88a55b0d1",
      "metadata": {
        "id": "ad3f270f-2991-47eb-929b-e8f88a55b0d1"
      },
      "outputs": [
        {
          "name": "stderr",
          "output_type": "stream",
          "text": [
            "C:\\Users\\Admin\\AppData\\Local\\Temp\\ipykernel_13696\\1135561390.py:8: UserWarning: pandas only supports SQLAlchemy connectable (engine/connection) or database string URI or sqlite3 DBAPI2 connection. Other DBAPI2 objects are not tested. Please consider using SQLAlchemy.\n",
            "  df = pd.read_sql_query(query_5_6, connection)\n"
          ]
        },
        {
          "name": "stdout",
          "output_type": "stream",
          "text": [
            "   employer_count\n",
            "0            3553\n"
          ]
        }
      ],
      "source": [
        "query_5_6 = f'''SELECT COUNT(DISTINCT e.id) AS employer_count\n",
        "FROM public.employers e\n",
        "JOIN public.employers_industries ei ON e.id = ei.employer_id\n",
        "JOIN public.industries i ON ei.industry_id = i.id\n",
        "WHERE i.name = 'Разработка программного обеспечения';\n",
        "'''  # Запрос\n",
        "\n",
        "df = pd.read_sql_query(query_5_6, connection) \n",
        "print(df)  # Выведение результата"
      ]
    },
    {
      "cell_type": "code",
      "execution_count": 354,
      "id": "H72qxWM0shPR",
      "metadata": {
        "id": "H72qxWM0shPR"
      },
      "outputs": [],
      "source": [
        "# результат запроса,  используя несколько объектов loin, мы объединили табилцу employers_industries с public.employers, а так же industries с employers из чего следует фильтрация по профессии. Ответ 3553"
      ]
    },
    {
      "cell_type": "markdown",
      "id": "7b02bb86-0546-40fb-94a4-242f050a5c57",
      "metadata": {
        "id": "7b02bb86-0546-40fb-94a4-242f050a5c57"
      },
      "source": [
        "7. Для компании «Яндекс» выведите список регионов-миллионников, в которых представлены вакансии компании, вместе с количеством вакансий в этих регионах. Также добавьте строку Total с общим количеством вакансий компании. Результат отсортируйте по возрастанию количества.\n",
        "\n",
        "Список городов-милионников надо взять [отсюда](https://ru.wikipedia.org/wiki/%D0%93%D0%BE%D1%80%D0%BE%D0%B4%D0%B0-%D0%BC%D0%B8%D0%BB%D0%BB%D0%B8%D0%BE%D0%BD%D0%B5%D1%80%D1%8B_%D0%A0%D0%BE%D1%81%D1%81%D0%B8%D0%B8). \n",
        "\n",
        "Если возникнут трудности с этим задание посмотрите материалы модуля  PYTHON-17. Как получать данные из веб-источников и API. "
      ]
    },
    {
      "cell_type": "code",
      "execution_count": 355,
      "id": "ZdfrL6gIs1Pn",
      "metadata": {
        "id": "ZdfrL6gIs1Pn"
      },
      "outputs": [
        {
          "ename": "ValueError",
          "evalue": "Таблица с заголовком 'Город' не найдена",
          "output_type": "error",
          "traceback": [
            "\u001b[1;31m---------------------------------------------------------------------------\u001b[0m",
            "\u001b[1;31mValueError\u001b[0m                                Traceback (most recent call last)",
            "Cell \u001b[1;32mIn[355], line 24\u001b[0m\n\u001b[0;32m     21\u001b[0m         \u001b[38;5;28;01mbreak\u001b[39;00m\n\u001b[0;32m     23\u001b[0m \u001b[38;5;28;01mif\u001b[39;00m \u001b[38;5;129;01mnot\u001b[39;00m target_table:\n\u001b[1;32m---> 24\u001b[0m     \u001b[38;5;28;01mraise\u001b[39;00m \u001b[38;5;167;01mValueError\u001b[39;00m(\u001b[38;5;124m\"\u001b[39m\u001b[38;5;124mТаблица с заголовком \u001b[39m\u001b[38;5;124m'\u001b[39m\u001b[38;5;124mГород\u001b[39m\u001b[38;5;124m'\u001b[39m\u001b[38;5;124m не найдена\u001b[39m\u001b[38;5;124m\"\u001b[39m)\n\u001b[0;32m     26\u001b[0m \u001b[38;5;66;03m# Нахождение индекса столбца \"Город\"\u001b[39;00m\n\u001b[0;32m     27\u001b[0m headers \u001b[38;5;241m=\u001b[39m [th\u001b[38;5;241m.\u001b[39mget_text(strip\u001b[38;5;241m=\u001b[39m\u001b[38;5;28;01mTrue\u001b[39;00m) \u001b[38;5;28;01mfor\u001b[39;00m th \u001b[38;5;129;01min\u001b[39;00m target_table\u001b[38;5;241m.\u001b[39mfind_all(\u001b[38;5;124m'\u001b[39m\u001b[38;5;124mth\u001b[39m\u001b[38;5;124m'\u001b[39m)]\n",
            "\u001b[1;31mValueError\u001b[0m: Таблица с заголовком 'Город' не найдена"
          ]
        }
      ],
      "source": [
        "import requests\n",
        "from bs4 import BeautifulSoup\n",
        "\n",
        "# Если таблица локально, поместите HTML в переменную или загрузите страницу с Wikipedia\n",
        "# Для примера возьмём страницу с городами-миллионниками России\n",
        "url = 'https://ru.wikipedia.org/wiki/Города-миллионеры_России'\n",
        "\n",
        "response = requests.get(url)\n",
        "response.raise_for_status()\n",
        "\n",
        "soup = BeautifulSoup(response.text, 'html.parser')\n",
        "\n",
        "# Находим все таблицы с классом, содержащим sortable (по примеру вашего класса)\n",
        "tables = soup.find_all('table', class_='standard sortable jquery-tablesorter')\n",
        "\n",
        "target_table = None\n",
        "for table in tables:\n",
        "    headers = [th.get_text(strip=True) for th in table.find_all('th')]\n",
        "    if 'Город' in headers:\n",
        "        target_table = table\n",
        "        break\n",
        "\n",
        "if not target_table:\n",
        "    raise ValueError(\"Таблица с заголовком 'Город' не найдена\")\n",
        "\n",
        "# Нахождение индекса столбца \"Город\"\n",
        "headers = [th.get_text(strip=True) for th in target_table.find_all('th')]\n",
        "city_index = headers.index('Город')\n",
        "\n",
        "# Извлечение городов из таблицы\n",
        "cities = []\n",
        "for row in target_table.find('tbody').find_all('tr'):\n",
        "    cols = row.find_all('td')\n",
        "    if len(cols) > city_index:\n",
        "        city_cell = cols[city_index]\n",
        "        # Обычно город в <a> теге внутри ячейки\n",
        "        city_link = city_cell.find('a')\n",
        "        city_name = city_link.get_text(strip=True) if city_link else city_cell.get_text(strip=True)\n",
        "        cities.append(city_name)\n",
        "\n",
        "# Вывод имен городов\n",
        "print(\"Города-миллионники России:\")\n",
        "for city in cities:\n",
        "    print(city)\n"
      ]
    },
    {
      "cell_type": "code",
      "execution_count": null,
      "id": "ttPhiO1rsvPq",
      "metadata": {
        "id": "ttPhiO1rsvPq"
      },
      "outputs": [],
      "source": [
        "# результат запроса - не понял как выгружать, если покажите буду очень признателен  "
      ]
    },
    {
      "cell_type": "markdown",
      "id": "04966e40-3bc3-4dc8-9ba2-e80580ce3abc",
      "metadata": {
        "id": "04966e40-3bc3-4dc8-9ba2-e80580ce3abc"
      },
      "source": [
        "***"
      ]
    },
    {
      "cell_type": "code",
      "execution_count": null,
      "id": "aGGyER-yt4SR",
      "metadata": {
        "id": "aGGyER-yt4SR"
      },
      "outputs": [],
      "source": [
        "# выводы по анализу работодателей"
      ]
    },
    {
      "cell_type": "markdown",
      "id": "b1ef156a-efcb-49ce-bb23-90763e7f35b2",
      "metadata": {
        "id": "b1ef156a-efcb-49ce-bb23-90763e7f35b2",
        "tags": []
      },
      "source": [
        "# Юнит 6. Предметный анализ"
      ]
    },
    {
      "cell_type": "markdown",
      "id": "b9cd50a0-992d-4988-8463-2b2b1c4629b4",
      "metadata": {
        "id": "b9cd50a0-992d-4988-8463-2b2b1c4629b4"
      },
      "source": [
        "1. Сколько вакансий имеет отношение к данным?\n",
        "\n",
        "Считаем, что вакансия имеет отношение к данным, если в её названии содержатся слова 'data' или 'данн'.\n",
        "\n",
        "*Подсказка: Обратите внимание, что названия вакансий могут быть написаны в любом регистре.* \n"
      ]
    },
    {
      "cell_type": "code",
      "execution_count": null,
      "id": "54ab0e50-c0f1-47cc-a54b-bc5c8bc363f9",
      "metadata": {
        "id": "54ab0e50-c0f1-47cc-a54b-bc5c8bc363f9"
      },
      "outputs": [
        {
          "name": "stdout",
          "output_type": "stream",
          "text": [
            "   count\n",
            "0   1771\n"
          ]
        },
        {
          "name": "stderr",
          "output_type": "stream",
          "text": [
            "C:\\Users\\Admin\\AppData\\Local\\Temp\\ipykernel_15380\\2953624814.py:6: UserWarning: pandas only supports SQLAlchemy connectable (engine/connection) or database string URI or sqlite3 DBAPI2 connection. Other DBAPI2 objects are not tested. Please consider using SQLAlchemy.\n",
            "  df = pd.read_sql_query(query_6_1, connection)\n"
          ]
        }
      ],
      "source": [
        "query_6_1 = f'''SELECT COUNT(id) \n",
        "FROM public.vacancies\n",
        "WHERE name ILIKE '%data%' OR name ILIKE '%данн%'\n",
        "'''  # Запрос\n",
        "\n",
        "df = pd.read_sql_query(query_6_1, connection) \n",
        "print(df)  # Выведение результата"
      ]
    },
    {
      "cell_type": "code",
      "execution_count": null,
      "id": "9F1meAqsuUjd",
      "metadata": {
        "id": "9F1meAqsuUjd"
      },
      "outputs": [],
      "source": [
        "# результат запроса стало количество вакансий с наличием в запросе 'data' или 'данн'. Поиск по ключевым словам предоставляет возможность, быстро определить род деятельности человека 'data' - данные"
      ]
    },
    {
      "cell_type": "markdown",
      "id": "4dea20cb-a36b-474a-a0b9-e08e8e3857a5",
      "metadata": {
        "id": "4dea20cb-a36b-474a-a0b9-e08e8e3857a5"
      },
      "source": [
        "2. Сколько есть подходящих вакансий для начинающего дата-сайентиста? \n",
        "Будем считать вакансиями для дата-сайентистов такие, в названии которых есть хотя бы одно из следующих сочетаний:\n",
        "* 'data scientist'\n",
        "* 'data science'\n",
        "* 'исследователь данных'\n",
        "* 'ML' (здесь не нужно брать вакансии по HTML)\n",
        "* 'machine learning'\n",
        "* 'машинн%обучен%'\n",
        "\n",
        "** В следующих заданиях мы продолжим работать с вакансиями по этому условию.*\n",
        "\n",
        "Считаем вакансиями для специалистов уровня Junior следующие:\n",
        "* в названии есть слово 'junior' *или*\n",
        "* требуемый опыт — Нет опыта *или*\n",
        "* тип трудоустройства — Стажировка.\n",
        " "
      ]
    },
    {
      "cell_type": "code",
      "execution_count": null,
      "id": "9c61b3c0-bb66-46c9-ae1e-81d3f5752b4a",
      "metadata": {
        "id": "9c61b3c0-bb66-46c9-ae1e-81d3f5752b4a"
      },
      "outputs": [
        {
          "name": "stderr",
          "output_type": "stream",
          "text": [
            "C:\\Users\\Admin\\AppData\\Local\\Temp\\ipykernel_13696\\1073711026.py:15: UserWarning: pandas only supports SQLAlchemy connectable (engine/connection) or database string URI or sqlite3 DBAPI2 connection. Other DBAPI2 objects are not tested. Please consider using SQLAlchemy.\n",
            "  df = pd.read_sql_query(query_6_2, connection)\n"
          ]
        },
        {
          "name": "stdout",
          "output_type": "stream",
          "text": [
            "   count\n",
            "0     51\n"
          ]
        }
      ],
      "source": [
        "query_6_2 = '''\n",
        "SELECT COUNT(id)\n",
        "FROM public.vacancies\n",
        "WHERE -- условия DS + key_skills\n",
        "   (name iLIKE '%data scientist%'\n",
        "   OR name iLIKE '%data science%'\n",
        "   OR name iLIKE '%исследователь данных%'\n",
        "   OR name ~* '\\\\mML\\\\M'  \n",
        "   OR name iLIKE '%machine learning%'\n",
        "   OR name iLIKE '%машинн%обучен%%')\n",
        "AND ( name iLIKE '%junior%'  \n",
        "   OR experience = 'Нет опыта'\n",
        "   OR employment = 'Стажировка') \n",
        "''' # AND соединяется по двум наборам критериев так как приориттет AND стоит  выше чем у  OR\n",
        "\n",
        "df = pd.read_sql_query(query_6_2, connection)\n",
        "print(df)\n"
      ]
    },
    {
      "cell_type": "code",
      "execution_count": null,
      "id": "ZNM-LLYuu1dj",
      "metadata": {
        "id": "ZNM-LLYuu1dj"
      },
      "outputs": [],
      "source": [
        "# результат запроса - количество вакансий = 51. Мы перебрали по показателям "
      ]
    },
    {
      "cell_type": "markdown",
      "id": "eedceb80-c5ca-480e-b27a-278dfb8b4438",
      "metadata": {
        "id": "eedceb80-c5ca-480e-b27a-278dfb8b4438"
      },
      "source": [
        "3. Сколько есть вакансий для DS, в которых в качестве ключевого навыка указан SQL или postgres?\n",
        "\n",
        "** Критерии для отнесения вакансии к DS указаны в предыдущем задании.*"
      ]
    },
    {
      "cell_type": "code",
      "execution_count": null,
      "id": "69621713-0cc5-4f1b-a1d7-bb144fa6148c",
      "metadata": {
        "id": "69621713-0cc5-4f1b-a1d7-bb144fa6148c"
      },
      "outputs": [
        {
          "name": "stderr",
          "output_type": "stream",
          "text": [
            "C:\\Users\\Admin\\AppData\\Local\\Temp\\ipykernel_13696\\2984017173.py:20: UserWarning: pandas only supports SQLAlchemy connectable (engine/connection) or database string URI or sqlite3 DBAPI2 connection. Other DBAPI2 objects are not tested. Please consider using SQLAlchemy.\n",
            "  df = pd.read_sql_query(query_6_3, connection)\n"
          ]
        },
        {
          "name": "stdout",
          "output_type": "stream",
          "text": [
            "   count\n",
            "0    229\n"
          ]
        }
      ],
      "source": [
        "query_6_3 = '''\n",
        "SELECT COUNT(id)\n",
        "FROM public.vacancies v\n",
        "WHERE  -- условия DS + key_skills\n",
        "(\n",
        "    name ILIKE '%data scientist%' \n",
        "    OR name ILIKE '%data science%'\n",
        "    OR name ILIKE '%исследователь данных%'\n",
        "    OR (name ILIKE '%ML%' AND name NOT ILIKE '%HTML%')\n",
        "    OR name ILIKE '%machine learning%'\n",
        "    OR name ILIKE '%машинн%обучен%'\n",
        ")\n",
        "AND\n",
        "(\n",
        "    key_skills ILIKE '%SQL%' \n",
        "    OR key_skills ILIKE '%postgres%'\n",
        ")\n",
        "'''   # AND соединяется по двум наборам критериев так как приориттет AND стоит  выше чем у  OR\n",
        "\n",
        "df = pd.read_sql_query(query_6_3, connection)\n",
        "print(df)\n"
      ]
    },
    {
      "cell_type": "code",
      "execution_count": null,
      "id": "alA8WEAAvGdf",
      "metadata": {
        "id": "alA8WEAAvGdf"
      },
      "outputs": [],
      "source": [
        "# результат запроса - количество вакансий = 229.  \n"
      ]
    },
    {
      "cell_type": "markdown",
      "id": "1be1e9c6-37cf-4a5f-bfeb-04cab799dc80",
      "metadata": {
        "id": "1be1e9c6-37cf-4a5f-bfeb-04cab799dc80"
      },
      "source": [
        "4. Проверьте, насколько популярен Python в требованиях работодателей к DS.Для этого вычислите количество вакансий, в которых в качестве ключевого навыка указан Python.\n",
        "\n",
        "** Это можно сделать помощью запроса, аналогичного предыдущему.*"
      ]
    },
    {
      "cell_type": "code",
      "execution_count": null,
      "id": "0036a355-9ccf-4564-8b01-73d8194297e7",
      "metadata": {
        "id": "0036a355-9ccf-4564-8b01-73d8194297e7"
      },
      "outputs": [
        {
          "name": "stdout",
          "output_type": "stream",
          "text": [
            "   count\n",
            "0    357\n"
          ]
        },
        {
          "name": "stderr",
          "output_type": "stream",
          "text": [
            "C:\\Users\\Admin\\AppData\\Local\\Temp\\ipykernel_13696\\1467388676.py:20: UserWarning: pandas only supports SQLAlchemy connectable (engine/connection) or database string URI or sqlite3 DBAPI2 connection. Other DBAPI2 objects are not tested. Please consider using SQLAlchemy.\n",
            "  df = pd.read_sql_query(query_6_3, connection)\n"
          ]
        }
      ],
      "source": [
        "query_6_4 = '''\n",
        "SELECT COUNT(id)\n",
        "FROM public.vacancies v\n",
        "WHERE  -- условия DS\n",
        "(\n",
        "    name ILIKE '%data scientist%' \n",
        "    OR name ILIKE '%data science%'\n",
        "    OR name ILIKE '%исследователь данных%'\n",
        "    OR (name ILIKE '%ML%' AND name NOT ILIKE '%HTML%')\n",
        "    OR name ILIKE '%machine learning%'\n",
        "    OR name ILIKE '%машинн%обучен%'\n",
        ")\n",
        "AND\n",
        "(\n",
        "    key_skills ILIKE '%Python%' \n",
        "    \n",
        ")\n",
        "'''   # AND соединяется по двум наборам критериев так как приориттет AND стоит  выше чем у  OR\n",
        "\n",
        "df = pd.read_sql_query(query_6_4, connection)\n",
        "print(df)# текст запроса"
      ]
    },
    {
      "cell_type": "code",
      "execution_count": null,
      "id": "1i-5WyucvQ6v",
      "metadata": {
        "id": "1i-5WyucvQ6v"
      },
      "outputs": [],
      "source": [
        "# результат запроса - количество вакансий = 357.  \n"
      ]
    },
    {
      "cell_type": "markdown",
      "id": "ec3c8db7-fa21-4a41-a994-1af63742a642",
      "metadata": {
        "id": "ec3c8db7-fa21-4a41-a994-1af63742a642"
      },
      "source": [
        "5. Сколько ключевых навыков в среднем указывают в вакансиях для DS?\n",
        "Ответ округлите до двух знаков после точки-разделителя."
      ]
    },
    {
      "cell_type": "code",
      "execution_count": null,
      "id": "949132bc-d5b6-4611-8218-0b9a504d74f4",
      "metadata": {
        "id": "949132bc-d5b6-4611-8218-0b9a504d74f4"
      },
      "outputs": [
        {
          "name": "stderr",
          "output_type": "stream",
          "text": [
            "C:\\Users\\Admin\\AppData\\Local\\Temp\\ipykernel_13696\\1796127583.py:23: UserWarning: pandas only supports SQLAlchemy connectable (engine/connection) or database string URI or sqlite3 DBAPI2 connection. Other DBAPI2 objects are not tested. Please consider using SQLAlchemy.\n",
            "  df = pd.read_sql_query(query_6_5, connection)\n"
          ]
        },
        {
          "name": "stdout",
          "output_type": "stream",
          "text": [
            "   avg_skills_count\n",
            "0              6.41\n"
          ]
        }
      ],
      "source": [
        "query_6_5 = '''\n",
        "SELECT \n",
        "round(AVG(CHAR_LENGTH(v.key_skills) - CHAR_LENGTH(replace(v.key_skills, CHR(9), ''))+1), 2) AS avg_skills_count\n",
        "\n",
        "FROM public.vacancies v\n",
        "WHERE -- условия DS\n",
        "    (lower(name) LIKE '%data scientist%' OR\n",
        "    lower(name) LIKE '%data science%' OR\n",
        "    lower(name) LIKE '%исследователь данных%' OR\n",
        "    (name LIKE '%ML%' AND lower(name) NOT LIKE'%html%') OR\n",
        "    lower(name) LIKE '%machine learning%' OR\n",
        "    lower(name) LIKE '%машинн%обучен%') AND\n",
        "    (key_skills IS NOT NULL AND key_skills != '')\n",
        "   \n",
        "'''   # AND соединяется по двум наборам критериев так как приориттет AND стоит  выше чем у  OR\n",
        "\n",
        "df = pd.read_sql_query(query_6_5, connection)\n",
        "print(df)# текст запроса"
      ]
    },
    {
      "cell_type": "code",
      "execution_count": null,
      "id": "a3V24Tvmviqk",
      "metadata": {
        "id": "a3V24Tvmviqk"
      },
      "outputs": [],
      "source": [
        "# результат запроса - кол-во mean ключевых вакансий = 6.41 "
      ]
    },
    {
      "cell_type": "markdown",
      "id": "1041c17a-ca8f-4543-a0ca-32778914fb00",
      "metadata": {
        "id": "1041c17a-ca8f-4543-a0ca-32778914fb00"
      },
      "source": [
        "6. Напишите запрос, позволяющий вычислить, какую зарплату для DS в **среднем** указывают для каждого типа требуемого опыта (уникальное значение из поля *experience*). \n",
        "\n",
        "При решении задачи примите во внимание следующее:\n",
        "1. Рассматриваем только вакансии, у которых заполнено хотя бы одно из двух полей с зарплатой.\n",
        "2. Если заполнены оба поля с зарплатой, то считаем зарплату по каждой вакансии как сумму двух полей, делённую на 2. Если заполнено только одно из полей, то его и считаем зарплатой по вакансии.\n",
        "3. Если в расчётах участвует null, в результате он тоже даст null (посмотрите, что возвращает запрос select 1 + null). Чтобы избежать этой ситуацию, мы воспользуемся функцией [coalesce](https://postgrespro.ru/docs/postgresql/9.5/functions-conditional#functions-coalesce-nvl-ifnull), которая заменит null на значение, которое мы передадим. Например, посмотрите, что возвращает запрос `select 1 + coalesce(null, 0)`\n",
        "\n",
        "Выясните, на какую зарплату в среднем может рассчитывать дата-сайентист с опытом работы от 3 до 6 лет. Результат округлите до целого числа. "
      ]
    },
    {
      "cell_type": "code",
      "execution_count": null,
      "id": "6a743d39-5204-48d3-8271-b9f88e68d40e",
      "metadata": {
        "id": "6a743d39-5204-48d3-8271-b9f88e68d40e"
      },
      "outputs": [
        {
          "name": "stdout",
          "output_type": "stream",
          "text": [
            "           experience  avg_salary\n",
            "0  От 1 года до 3 лет     55000.0\n",
            "1           Нет опыта     74643.0\n"
          ]
        },
        {
          "name": "stderr",
          "output_type": "stream",
          "text": [
            "C:\\Users\\Admin\\AppData\\Local\\Temp\\ipykernel_13696\\4089439136.py:29: UserWarning: pandas only supports SQLAlchemy connectable (engine/connection) or database string URI or sqlite3 DBAPI2 connection. Other DBAPI2 objects are not tested. Please consider using SQLAlchemy.\n",
            "  df = pd.read_sql_query(query_6_6, connection)\n"
          ]
        }
      ],
      "source": [
        "query_6_6 = '''SELECT \n",
        "v.experience,\n",
        "ROUND(AVG(CASE \n",
        "   WHEN   v.salary_to is not null and v.salary_from is not null THEN (v.salary_from + v.salary_to) / 2\n",
        "   WHEN  v.salary_from is not null THEN v.salary_from     \n",
        "   WHEN v.salary_to is not null THEN v.salary_to\n",
        "   else null\n",
        "   end\n",
        "      ))  avg_salary\n",
        "   \n",
        "FROM public.vacancies v\n",
        "\n",
        "WHERE -- условия DS\n",
        "    (lower(name) LIKE '%data scientist%' OR\n",
        "    lower(name) LIKE '%data science%' OR\n",
        "    lower(name) LIKE '%исследователь данных%' OR\n",
        "    (name LIKE '%ML%' AND lower(name) NOT LIKE'%html%') OR\n",
        "    lower(name) LIKE '%machine learning%' OR\n",
        "    lower(name) LIKE '%машинн%обучен%')\n",
        "    \n",
        "    AND ( name iLIKE '%junior%'  -- Запрос для новичков\n",
        "   OR experience = 'Нет опыта'\n",
        "   OR employment = 'Стажировка') \n",
        "\n",
        "GROUP BY v.experience\n",
        "ORDER BY v.experience DESC  \n",
        "'''   # AND соединяется по двум наборам критериев так как приориттет AND стоит  выше чем у  OR\n",
        "\n",
        "df = pd.read_sql_query(query_6_6, connection)\n",
        "print(df)# текст запроса"
      ]
    },
    {
      "cell_type": "code",
      "execution_count": null,
      "id": "aRIJ0mZEwU1_",
      "metadata": {
        "id": "aRIJ0mZEwU1_"
      },
      "outputs": [],
      "source": [
        "# результат запроса -  У работников от 3 до 6 лет ЗП 243115. Но мне стало интересно проверить по запросу из задания 6.2 проверку на новичка и получается,\n",
        "# что новичок без опыта работы получает больше чем с опытом работы от 1 года до 3 лет. \n",
        "# Это говорит нам, что на собеседовании нужно умалчивать об опыте работы Ж)"
      ]
    },
    {
      "cell_type": "markdown",
      "id": "6a7892b4-4113-4746-adce-18aa2844f18e",
      "metadata": {
        "id": "6a7892b4-4113-4746-adce-18aa2844f18e"
      },
      "source": [
        "***"
      ]
    },
    {
      "cell_type": "code",
      "execution_count": null,
      "id": "UjLWUptVwY1o",
      "metadata": {
        "id": "UjLWUptVwY1o"
      },
      "outputs": [],
      "source": [
        "# Модуль предлагает набор упражнений по разработке и исследованию запросов, внешне выглядящих стандартизированными и похожими друг на друга.\n",
        "# Однако углубившись в суть каждого задания, можно обнаружить скрытую сложность даже там, где кажется всё простым.\n",
        "# Это превращает процесс выполнения задач в увлекательное и полезное занятие для профессиональной сферы. Благодарю!"
      ]
    },
    {
      "cell_type": "markdown",
      "id": "c0ED6fh7wiBT",
      "metadata": {
        "id": "c0ED6fh7wiBT"
      },
      "source": [
        "# Общий вывод по проекту"
      ]
    },
    {
      "cell_type": "code",
      "execution_count": 362,
      "id": "h9B3BL-wwj18",
      "metadata": {
        "id": "h9B3BL-wwj18"
      },
      "outputs": [
        {
          "name": "stderr",
          "output_type": "stream",
          "text": [
            "C:\\Users\\Admin\\AppData\\Local\\Temp\\ipykernel_13696\\1194531715.py:52: DeprecationWarning: *scatter_mapbox* is deprecated! Use *scatter_map* instead. Learn more at: https://plotly.com/python/mapbox-to-maplibre/\n",
            "  fig = px.scatter_mapbox(\n"
          ]
        },
        {
          "data": {
            "application/vnd.plotly.v1+json": {
              "config": {
                "plotlyServerURL": "https://plot.ly"
              },
              "data": [
                {
                  "customdata": {
                    "bdata": "1RQjC0AI1gdkB6IGhgaHBRUF",
                    "dtype": "i2",
                    "shape": "9, 1"
                  },
                  "hovertemplate": "<b>%{hovertext}</b><br><br>vacancies_count=%{customdata[0]}<br>lat=%{lat}<br>lon=%{lon}<extra></extra>",
                  "hovertext": [
                    "Москва",
                    "Санкт-Петербург",
                    "Минск",
                    "Новосибирск",
                    "Алматы",
                    "Екатеринбург",
                    "Нижний Новгород",
                    "Казань",
                    "Краснодар"
                  ],
                  "lat": {
                    "bdata": "jSjtDb7gS0CPU3Qkl/dNQIhjXdxG80pAqaROQBOBS0Aj2/l+apxFQKVOQBNha0xAy6FFtvMlTECYTBWMSupLQAaBlUOLhEZA",
                    "dtype": "f8"
                  },
                  "legendgroup": "",
                  "lon": {
                    "bdata": "OwFNhA3PQkC94xQdyVU+QMl2vp8ajztAgLdAguK7VEC8lpAPejZTQPaX3ZOHTU5Aj+TyH9L3RUD/If32dYhIQPfkYaHWfENA",
                    "dtype": "f8"
                  },
                  "marker": {
                    "color": "#636efa",
                    "size": {
                      "bdata": "1RQjC0AI1gdkB6IGhgaHBRUF",
                      "dtype": "i2"
                    },
                    "sizemode": "area",
                    "sizeref": 13.3325
                  },
                  "mode": "markers",
                  "name": "",
                  "showlegend": false,
                  "subplot": "mapbox",
                  "type": "scattermapbox"
                }
              ],
              "layout": {
                "height": 600,
                "legend": {
                  "itemsizing": "constant",
                  "tracegroupgap": 0
                },
                "mapbox": {
                  "center": {
                    "lat": 53.53582222222222,
                    "lon": 49.76464444444445
                  },
                  "domain": {
                    "x": [
                      0,
                      1
                    ],
                    "y": [
                      0,
                      1
                    ]
                  },
                  "style": "open-street-map",
                  "zoom": 3
                },
                "template": {
                  "data": {
                    "bar": [
                      {
                        "error_x": {
                          "color": "#2a3f5f"
                        },
                        "error_y": {
                          "color": "#2a3f5f"
                        },
                        "marker": {
                          "line": {
                            "color": "#E5ECF6",
                            "width": 0.5
                          },
                          "pattern": {
                            "fillmode": "overlay",
                            "size": 10,
                            "solidity": 0.2
                          }
                        },
                        "type": "bar"
                      }
                    ],
                    "barpolar": [
                      {
                        "marker": {
                          "line": {
                            "color": "#E5ECF6",
                            "width": 0.5
                          },
                          "pattern": {
                            "fillmode": "overlay",
                            "size": 10,
                            "solidity": 0.2
                          }
                        },
                        "type": "barpolar"
                      }
                    ],
                    "carpet": [
                      {
                        "aaxis": {
                          "endlinecolor": "#2a3f5f",
                          "gridcolor": "white",
                          "linecolor": "white",
                          "minorgridcolor": "white",
                          "startlinecolor": "#2a3f5f"
                        },
                        "baxis": {
                          "endlinecolor": "#2a3f5f",
                          "gridcolor": "white",
                          "linecolor": "white",
                          "minorgridcolor": "white",
                          "startlinecolor": "#2a3f5f"
                        },
                        "type": "carpet"
                      }
                    ],
                    "choropleth": [
                      {
                        "colorbar": {
                          "outlinewidth": 0,
                          "ticks": ""
                        },
                        "type": "choropleth"
                      }
                    ],
                    "contour": [
                      {
                        "colorbar": {
                          "outlinewidth": 0,
                          "ticks": ""
                        },
                        "colorscale": [
                          [
                            0,
                            "#0d0887"
                          ],
                          [
                            0.1111111111111111,
                            "#46039f"
                          ],
                          [
                            0.2222222222222222,
                            "#7201a8"
                          ],
                          [
                            0.3333333333333333,
                            "#9c179e"
                          ],
                          [
                            0.4444444444444444,
                            "#bd3786"
                          ],
                          [
                            0.5555555555555556,
                            "#d8576b"
                          ],
                          [
                            0.6666666666666666,
                            "#ed7953"
                          ],
                          [
                            0.7777777777777778,
                            "#fb9f3a"
                          ],
                          [
                            0.8888888888888888,
                            "#fdca26"
                          ],
                          [
                            1,
                            "#f0f921"
                          ]
                        ],
                        "type": "contour"
                      }
                    ],
                    "contourcarpet": [
                      {
                        "colorbar": {
                          "outlinewidth": 0,
                          "ticks": ""
                        },
                        "type": "contourcarpet"
                      }
                    ],
                    "heatmap": [
                      {
                        "colorbar": {
                          "outlinewidth": 0,
                          "ticks": ""
                        },
                        "colorscale": [
                          [
                            0,
                            "#0d0887"
                          ],
                          [
                            0.1111111111111111,
                            "#46039f"
                          ],
                          [
                            0.2222222222222222,
                            "#7201a8"
                          ],
                          [
                            0.3333333333333333,
                            "#9c179e"
                          ],
                          [
                            0.4444444444444444,
                            "#bd3786"
                          ],
                          [
                            0.5555555555555556,
                            "#d8576b"
                          ],
                          [
                            0.6666666666666666,
                            "#ed7953"
                          ],
                          [
                            0.7777777777777778,
                            "#fb9f3a"
                          ],
                          [
                            0.8888888888888888,
                            "#fdca26"
                          ],
                          [
                            1,
                            "#f0f921"
                          ]
                        ],
                        "type": "heatmap"
                      }
                    ],
                    "histogram": [
                      {
                        "marker": {
                          "pattern": {
                            "fillmode": "overlay",
                            "size": 10,
                            "solidity": 0.2
                          }
                        },
                        "type": "histogram"
                      }
                    ],
                    "histogram2d": [
                      {
                        "colorbar": {
                          "outlinewidth": 0,
                          "ticks": ""
                        },
                        "colorscale": [
                          [
                            0,
                            "#0d0887"
                          ],
                          [
                            0.1111111111111111,
                            "#46039f"
                          ],
                          [
                            0.2222222222222222,
                            "#7201a8"
                          ],
                          [
                            0.3333333333333333,
                            "#9c179e"
                          ],
                          [
                            0.4444444444444444,
                            "#bd3786"
                          ],
                          [
                            0.5555555555555556,
                            "#d8576b"
                          ],
                          [
                            0.6666666666666666,
                            "#ed7953"
                          ],
                          [
                            0.7777777777777778,
                            "#fb9f3a"
                          ],
                          [
                            0.8888888888888888,
                            "#fdca26"
                          ],
                          [
                            1,
                            "#f0f921"
                          ]
                        ],
                        "type": "histogram2d"
                      }
                    ],
                    "histogram2dcontour": [
                      {
                        "colorbar": {
                          "outlinewidth": 0,
                          "ticks": ""
                        },
                        "colorscale": [
                          [
                            0,
                            "#0d0887"
                          ],
                          [
                            0.1111111111111111,
                            "#46039f"
                          ],
                          [
                            0.2222222222222222,
                            "#7201a8"
                          ],
                          [
                            0.3333333333333333,
                            "#9c179e"
                          ],
                          [
                            0.4444444444444444,
                            "#bd3786"
                          ],
                          [
                            0.5555555555555556,
                            "#d8576b"
                          ],
                          [
                            0.6666666666666666,
                            "#ed7953"
                          ],
                          [
                            0.7777777777777778,
                            "#fb9f3a"
                          ],
                          [
                            0.8888888888888888,
                            "#fdca26"
                          ],
                          [
                            1,
                            "#f0f921"
                          ]
                        ],
                        "type": "histogram2dcontour"
                      }
                    ],
                    "mesh3d": [
                      {
                        "colorbar": {
                          "outlinewidth": 0,
                          "ticks": ""
                        },
                        "type": "mesh3d"
                      }
                    ],
                    "parcoords": [
                      {
                        "line": {
                          "colorbar": {
                            "outlinewidth": 0,
                            "ticks": ""
                          }
                        },
                        "type": "parcoords"
                      }
                    ],
                    "pie": [
                      {
                        "automargin": true,
                        "type": "pie"
                      }
                    ],
                    "scatter": [
                      {
                        "fillpattern": {
                          "fillmode": "overlay",
                          "size": 10,
                          "solidity": 0.2
                        },
                        "type": "scatter"
                      }
                    ],
                    "scatter3d": [
                      {
                        "line": {
                          "colorbar": {
                            "outlinewidth": 0,
                            "ticks": ""
                          }
                        },
                        "marker": {
                          "colorbar": {
                            "outlinewidth": 0,
                            "ticks": ""
                          }
                        },
                        "type": "scatter3d"
                      }
                    ],
                    "scattercarpet": [
                      {
                        "marker": {
                          "colorbar": {
                            "outlinewidth": 0,
                            "ticks": ""
                          }
                        },
                        "type": "scattercarpet"
                      }
                    ],
                    "scattergeo": [
                      {
                        "marker": {
                          "colorbar": {
                            "outlinewidth": 0,
                            "ticks": ""
                          }
                        },
                        "type": "scattergeo"
                      }
                    ],
                    "scattergl": [
                      {
                        "marker": {
                          "colorbar": {
                            "outlinewidth": 0,
                            "ticks": ""
                          }
                        },
                        "type": "scattergl"
                      }
                    ],
                    "scattermap": [
                      {
                        "marker": {
                          "colorbar": {
                            "outlinewidth": 0,
                            "ticks": ""
                          }
                        },
                        "type": "scattermap"
                      }
                    ],
                    "scattermapbox": [
                      {
                        "marker": {
                          "colorbar": {
                            "outlinewidth": 0,
                            "ticks": ""
                          }
                        },
                        "type": "scattermapbox"
                      }
                    ],
                    "scatterpolar": [
                      {
                        "marker": {
                          "colorbar": {
                            "outlinewidth": 0,
                            "ticks": ""
                          }
                        },
                        "type": "scatterpolar"
                      }
                    ],
                    "scatterpolargl": [
                      {
                        "marker": {
                          "colorbar": {
                            "outlinewidth": 0,
                            "ticks": ""
                          }
                        },
                        "type": "scatterpolargl"
                      }
                    ],
                    "scatterternary": [
                      {
                        "marker": {
                          "colorbar": {
                            "outlinewidth": 0,
                            "ticks": ""
                          }
                        },
                        "type": "scatterternary"
                      }
                    ],
                    "surface": [
                      {
                        "colorbar": {
                          "outlinewidth": 0,
                          "ticks": ""
                        },
                        "colorscale": [
                          [
                            0,
                            "#0d0887"
                          ],
                          [
                            0.1111111111111111,
                            "#46039f"
                          ],
                          [
                            0.2222222222222222,
                            "#7201a8"
                          ],
                          [
                            0.3333333333333333,
                            "#9c179e"
                          ],
                          [
                            0.4444444444444444,
                            "#bd3786"
                          ],
                          [
                            0.5555555555555556,
                            "#d8576b"
                          ],
                          [
                            0.6666666666666666,
                            "#ed7953"
                          ],
                          [
                            0.7777777777777778,
                            "#fb9f3a"
                          ],
                          [
                            0.8888888888888888,
                            "#fdca26"
                          ],
                          [
                            1,
                            "#f0f921"
                          ]
                        ],
                        "type": "surface"
                      }
                    ],
                    "table": [
                      {
                        "cells": {
                          "fill": {
                            "color": "#EBF0F8"
                          },
                          "line": {
                            "color": "white"
                          }
                        },
                        "header": {
                          "fill": {
                            "color": "#C8D4E3"
                          },
                          "line": {
                            "color": "white"
                          }
                        },
                        "type": "table"
                      }
                    ]
                  },
                  "layout": {
                    "annotationdefaults": {
                      "arrowcolor": "#2a3f5f",
                      "arrowhead": 0,
                      "arrowwidth": 1
                    },
                    "autotypenumbers": "strict",
                    "coloraxis": {
                      "colorbar": {
                        "outlinewidth": 0,
                        "ticks": ""
                      }
                    },
                    "colorscale": {
                      "diverging": [
                        [
                          0,
                          "#8e0152"
                        ],
                        [
                          0.1,
                          "#c51b7d"
                        ],
                        [
                          0.2,
                          "#de77ae"
                        ],
                        [
                          0.3,
                          "#f1b6da"
                        ],
                        [
                          0.4,
                          "#fde0ef"
                        ],
                        [
                          0.5,
                          "#f7f7f7"
                        ],
                        [
                          0.6,
                          "#e6f5d0"
                        ],
                        [
                          0.7,
                          "#b8e186"
                        ],
                        [
                          0.8,
                          "#7fbc41"
                        ],
                        [
                          0.9,
                          "#4d9221"
                        ],
                        [
                          1,
                          "#276419"
                        ]
                      ],
                      "sequential": [
                        [
                          0,
                          "#0d0887"
                        ],
                        [
                          0.1111111111111111,
                          "#46039f"
                        ],
                        [
                          0.2222222222222222,
                          "#7201a8"
                        ],
                        [
                          0.3333333333333333,
                          "#9c179e"
                        ],
                        [
                          0.4444444444444444,
                          "#bd3786"
                        ],
                        [
                          0.5555555555555556,
                          "#d8576b"
                        ],
                        [
                          0.6666666666666666,
                          "#ed7953"
                        ],
                        [
                          0.7777777777777778,
                          "#fb9f3a"
                        ],
                        [
                          0.8888888888888888,
                          "#fdca26"
                        ],
                        [
                          1,
                          "#f0f921"
                        ]
                      ],
                      "sequentialminus": [
                        [
                          0,
                          "#0d0887"
                        ],
                        [
                          0.1111111111111111,
                          "#46039f"
                        ],
                        [
                          0.2222222222222222,
                          "#7201a8"
                        ],
                        [
                          0.3333333333333333,
                          "#9c179e"
                        ],
                        [
                          0.4444444444444444,
                          "#bd3786"
                        ],
                        [
                          0.5555555555555556,
                          "#d8576b"
                        ],
                        [
                          0.6666666666666666,
                          "#ed7953"
                        ],
                        [
                          0.7777777777777778,
                          "#fb9f3a"
                        ],
                        [
                          0.8888888888888888,
                          "#fdca26"
                        ],
                        [
                          1,
                          "#f0f921"
                        ]
                      ]
                    },
                    "colorway": [
                      "#636efa",
                      "#EF553B",
                      "#00cc96",
                      "#ab63fa",
                      "#FFA15A",
                      "#19d3f3",
                      "#FF6692",
                      "#B6E880",
                      "#FF97FF",
                      "#FECB52"
                    ],
                    "font": {
                      "color": "#2a3f5f"
                    },
                    "geo": {
                      "bgcolor": "white",
                      "lakecolor": "white",
                      "landcolor": "#E5ECF6",
                      "showlakes": true,
                      "showland": true,
                      "subunitcolor": "white"
                    },
                    "hoverlabel": {
                      "align": "left"
                    },
                    "hovermode": "closest",
                    "mapbox": {
                      "style": "light"
                    },
                    "paper_bgcolor": "white",
                    "plot_bgcolor": "#E5ECF6",
                    "polar": {
                      "angularaxis": {
                        "gridcolor": "white",
                        "linecolor": "white",
                        "ticks": ""
                      },
                      "bgcolor": "#E5ECF6",
                      "radialaxis": {
                        "gridcolor": "white",
                        "linecolor": "white",
                        "ticks": ""
                      }
                    },
                    "scene": {
                      "xaxis": {
                        "backgroundcolor": "#E5ECF6",
                        "gridcolor": "white",
                        "gridwidth": 2,
                        "linecolor": "white",
                        "showbackground": true,
                        "ticks": "",
                        "zerolinecolor": "white"
                      },
                      "yaxis": {
                        "backgroundcolor": "#E5ECF6",
                        "gridcolor": "white",
                        "gridwidth": 2,
                        "linecolor": "white",
                        "showbackground": true,
                        "ticks": "",
                        "zerolinecolor": "white"
                      },
                      "zaxis": {
                        "backgroundcolor": "#E5ECF6",
                        "gridcolor": "white",
                        "gridwidth": 2,
                        "linecolor": "white",
                        "showbackground": true,
                        "ticks": "",
                        "zerolinecolor": "white"
                      }
                    },
                    "shapedefaults": {
                      "line": {
                        "color": "#2a3f5f"
                      }
                    },
                    "ternary": {
                      "aaxis": {
                        "gridcolor": "white",
                        "linecolor": "white",
                        "ticks": ""
                      },
                      "baxis": {
                        "gridcolor": "white",
                        "linecolor": "white",
                        "ticks": ""
                      },
                      "bgcolor": "#E5ECF6",
                      "caxis": {
                        "gridcolor": "white",
                        "linecolor": "white",
                        "ticks": ""
                      }
                    },
                    "title": {
                      "x": 0.05
                    },
                    "xaxis": {
                      "automargin": true,
                      "gridcolor": "white",
                      "linecolor": "white",
                      "ticks": "",
                      "title": {
                        "standoff": 15
                      },
                      "zerolinecolor": "white",
                      "zerolinewidth": 2
                    },
                    "yaxis": {
                      "automargin": true,
                      "gridcolor": "white",
                      "linecolor": "white",
                      "ticks": "",
                      "title": {
                        "standoff": 15
                      },
                      "zerolinecolor": "white",
                      "zerolinewidth": 2
                    }
                  }
                },
                "title": {
                  "text": "Распределение вакансий по городам"
                }
              }
            }
          },
          "metadata": {},
          "output_type": "display_data"
        }
      ],
      "source": [
        "import plotly.express as px\n",
        "import pandas as pd\n",
        "from sqlalchemy import create_engine\n",
        "\n",
        "user = 'skillfactory'\n",
        "password = 'cCkxxLVrDE8EbvjueeMedPKt'\n",
        "host = '84.201.134.129'\n",
        "port = 5432\n",
        "database = 'project_sql'\n",
        "\n",
        "connection_string = f'postgresql://{user}:{password}@{host}:{port}/{database}'\n",
        "engine = create_engine(connection_string)\n",
        "\n",
        "sql_query = '''\n",
        "SELECT\n",
        "  a.name,\n",
        "  COUNT(v.id) AS vacancies_count\n",
        "FROM public.vacancies v\n",
        "JOIN public.areas a ON v.area_id = a.id\n",
        "GROUP BY 1\n",
        "ORDER BY vacancies_count DESC;\n",
        "'''\n",
        "\n",
        "df = pd.read_sql(sql_query, engine)\n",
        "\n",
        "# Создаем словарь с координатами по городам (названия в базе должны соответствовать)\n",
        "coordinates = {\n",
        "    'Москва': (55.7558, 37.6176),\n",
        "    'Санкт-Петербург': (59.9343, 30.3351),\n",
        "    'Минск': (53.9006, 27.5590),\n",
        "    'Новосибирск': (55.0084, 82.9357),\n",
        "    'Алматы': (43.2220, 76.8512),\n",
        "    'Екатеринбург': (56.8389, 60.6057),\n",
        "    'Нижний Новгород': (56.2965, 43.9361),\n",
        "    'Казань': (55.8304, 49.0661),\n",
        "    'Краснодар': (45.0355, 38.9753)\n",
        "}\n",
        "\n",
        "# Добавляем колонки с координатами на основе названия области/города\n",
        "def get_lat(name):\n",
        "    return coordinates.get(name, (None, None))[0]\n",
        "\n",
        "def get_lon(name):\n",
        "    return coordinates.get(name, (None, None))[1]\n",
        "\n",
        "df['lat'] = df['name'].apply(get_lat)\n",
        "df['lon'] = df['name'].apply(get_lon)\n",
        "\n",
        "# Убираем строки без координат \n",
        "df = df.dropna(subset=['lat', 'lon'])\n",
        "\n",
        "fig = px.scatter_mapbox(\n",
        "    df,\n",
        "    lat='lat',\n",
        "    lon='lon',\n",
        "    size='vacancies_count',\n",
        "    hover_name='name',\n",
        "    hover_data=['vacancies_count'],\n",
        "    zoom=3,\n",
        "    height=600,\n",
        "    mapbox_style='open-street-map',\n",
        "    title='Распределение вакансий по городам'\n",
        ")\n",
        "\n",
        "fig.show()"
      ]
    },
    {
      "cell_type": "markdown",
      "id": "fb0e5597",
      "metadata": {},
      "source": [
        "График показывает, что большинство вакансий сосредоточено в Москве, что косвенно подтверждает высокую концентрацию предприятий в столичном регионе. Исходя из этого, можно сделать предположение, что существующий рынок труда формирует повышенный интерес среди специалистов, и в будущем примерно 5333 специалиста могут принять решение о переезде в Москву ради карьерных возможностей."
      ]
    }
  ],
  "metadata": {
    "colab": {
      "collapsed_sections": [
        "8d62a9f3-f64e-4fe7-bdac-c4dffa16155e"
      ],
      "provenance": []
    },
    "kernelspec": {
      "display_name": ".venv",
      "language": "python",
      "name": "python3"
    },
    "language_info": {
      "codemirror_mode": {
        "name": "ipython",
        "version": 3
      },
      "file_extension": ".py",
      "mimetype": "text/x-python",
      "name": "python",
      "nbconvert_exporter": "python",
      "pygments_lexer": "ipython3",
      "version": "3.12.7"
    }
  },
  "nbformat": 4,
  "nbformat_minor": 5
}
